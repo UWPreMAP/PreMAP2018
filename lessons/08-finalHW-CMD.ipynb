{
 "cells": [
  {
   "cell_type": "markdown",
   "metadata": {},
   "source": [
    "# Final Coding Homework: Creating Colour-Magnitude Diagram #\n",
    "\n",
    "## Essential Background Information ##\n",
    "\n",
    "We've seen the Hertzsprung-Russell (HR) diagram a few times in class now (see [slides](https://docs.google.com/a/uw.edu/presentation/d/1NfwnTgrDZH7m67_1q_qZwuW8BBdYRr_tv8ooU95Mlzk/edit?usp=sharing) for Writing 1 and last cell in [Lesson 6: Plotting iPython Notebook](https://github.com/UWPreMAP/PreMAP2017/blob/master/lessons/06-plotting.ipynb)). Recall that the HR diagram plots a star's luminosity (y-axis) as a function of its effective temperature (x-axis). You've seen the HR diagram in the context of an *idealized* representation of distinct groupings of stars, e.g., the Main Sequence, the Horizontal Branch, the Red Giant Branch, etc. So what about in practice? What does a HR diagram look like with real observational data? \n",
    "\n",
    "When astronomers make an HR diagram based off of real data in the night sky, they call it the \"observer's HR diagram\" or **the Colour-Magnitude Diagram (CMD)**. This is because instead of luminosity and temperature on the y and x axes, respectively, observers plot the apparent brightness in magnitude vs. colour. Typically, observers use the B, V, R, I bandpasses, and so will plot V mag vs. B-I mag. \n",
    "\n",
    "To make an HR diagram based off of real observations, we point our telescopes at *stars in stellar clusters* and *observe their brightness in various bandpasses*. There are several reasons why we do this:\n",
    "\n",
    "1) Looking at a stellar cluster ensures that our observer's HR diagram won't have just 10 lonely stars in it, but rather fill the whole parameter space.\n",
    "\n",
    "2) In order to measure the luminosity of an object, you have to know its distance (which is hard, but **see footnote**); but if you observe the apparent brightnesses of stars in the same stellar cluster, they are roughly at the same distance, which means you can compare the brightness of the stars relative to each other in the cluster, no problem. \n",
    "\n",
    "3) Observing the brightnesses of stars in multiple bandpasses or filters allow us to estimate their temperatures; recall the idealized stellar Planck/blackbody curve, stars that are hotter will be brighter in bluer bandpasses relative to redder bandpasses, whereas stars that are cooler will be brighter in redder bandpasses relative to blue. For this reason, the relative brightness of an astronomical object between two bandpasses (or the difference in magnitude) is called \"colour\". \n",
    "\n",
    "The stellar cluster CMD technique is a powerful tool because it simultaneously tells you the **age** of the cluster and **distance** to that cluster! An \"observed\" HR diagram, or CMD will look different from the idealized HR diagram from Lesson 6! Consider this: stars in the same cluster will have the same age (and composition), since they were born out of the same molecular cloud. However, because more massive stars fuse hydrogen faster, they evolve off the main sequence faster, and consequently an *older* stellar cluster will have *fewer* massive stars still in the main sequence phase. As the cluster ages, more and more low-mass stars will evolve off the main sequence, and this \"turn-off\" from the main sequence track is called... **\"the main sequence turn off\" (MSTO)**. You can see this effect in the image below. Each panel depicts a snapshot of a stellar cluster at a particular age ($t=0$ when cluster is just born), and shaded region = main sequence.\n",
    "\n",
    "<img src=\"http://pages.uoregon.edu/jimbrau/BrauImNew/Chap20/8th/20_17_Figure_Unanno.jpg\">\n",
    "\n",
    "You can read more about CMDs [here](https://web.njit.edu/~gary/202/Lecture17.html) (optional).\n",
    "\n",
    "## What You Need To Do ##\n",
    "In this homework, you will create a CMD based off real data of the M15 cluster astronomers collected! Make sure to **comment your code**.\n",
    "\n",
    "### First, you will read in the ascii data file that contains the B, V, and I magnitudes of stars. ### \n",
    "\n",
    "Download the ascii data file from the class github directory `data/m15.tsv` and save it to your computer.\n",
    "Read in the downloaded data file using functions you learned in Lessons 6 and 7. Note the file `m15.tsv` has ;-separated values, so when you apply the function you will have to specify keyword argument `delimiter=';'`.\n"
   ]
  },
  {
   "cell_type": "code",
   "execution_count": null,
   "metadata": {
    "collapsed": false
   },
   "outputs": [],
   "source": [
    "# Write code to read in the contents of the ascii file here\n",
    "\n",
    "\n",
    "\n",
    "\n",
    "# Don't forget to comment code! "
   ]
  },
  {
   "cell_type": "markdown",
   "metadata": {},
   "source": [
    "### Next, make a plot with B-I colour on the x-axis, and V magnitude on the y-axis. ###\n",
    "\n",
    "Make sure you give the proper x, y axis labels (with units), and make sure the limits of the y-axis is correct (remember the bigger the magnitude, the fainter an object)."
   ]
  },
  {
   "cell_type": "code",
   "execution_count": null,
   "metadata": {
    "collapsed": false
   },
   "outputs": [],
   "source": [
    "# Write code to make & prettify the plot, use either plt.plot or plt.scatter\n",
    "\n",
    "\n",
    "\n",
    "\n",
    "\n",
    "\n",
    "\n",
    "# Don't forget to comment code!"
   ]
  },
  {
   "cell_type": "markdown",
   "metadata": {},
   "source": [
    "### Finally, let's interpret the pretty plot you've made! ###\n",
    "\n",
    "\n",
    "1) Locate at least 3 \"groups\" of stars in your CMD and label them accordingly.  \n",
    "\n",
    "2) Based on your CMD, is M15 an old cluster or young cluster... how did you come to this conclusion? \n",
    "\n",
    "3) Why are there so many data points that are scattered everywhere, and don't look like they belong in the idealized HR diagram?"
   ]
  },
  {
   "cell_type": "code",
   "execution_count": null,
   "metadata": {
    "collapsed": true
   },
   "outputs": [],
   "source": [
    "# Copy and paste your plotting code, and modify it to address question 1.\n",
    "\n",
    "\n",
    "\n",
    "\n",
    "\n",
    "\n",
    "\n",
    "\n",
    "\n",
    "\n",
    "\n",
    "# Question 2 response:\n",
    "\n",
    "\n",
    "\n",
    "\n",
    "# Question 3 response:"
   ]
  }
 ],
 "metadata": {
  "kernelspec": {
   "display_name": "Python 2",
   "language": "python",
   "name": "python2"
  },
  "language_info": {
   "codemirror_mode": {
    "name": "ipython",
    "version": 2
   },
   "file_extension": ".py",
   "mimetype": "text/x-python",
   "name": "python",
   "nbconvert_exporter": "python",
   "pygments_lexer": "ipython2",
   "version": "2.7.11"
  }
 },
 "nbformat": 4,
 "nbformat_minor": 0
}
